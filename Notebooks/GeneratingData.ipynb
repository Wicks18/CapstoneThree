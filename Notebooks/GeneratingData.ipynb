{
 "cells": [
  {
   "cell_type": "code",
   "execution_count": 1,
   "metadata": {},
   "outputs": [],
   "source": [
    "import pandas as pd\n",
    "import re, random, string, time\n",
    "import sqlite3"
   ]
  },
  {
   "cell_type": "code",
   "execution_count": 2,
   "metadata": {},
   "outputs": [],
   "source": [
    "from openai import OpenAI\n",
    "\n",
    "# Point to the local server\n",
    "client = OpenAI(base_url=\"http://localhost:1234/v1\", api_key=\"not-needed\")"
   ]
  },
  {
   "cell_type": "code",
   "execution_count": 3,
   "metadata": {},
   "outputs": [
    {
     "data": {
      "text/html": [
       "<div>\n",
       "<style scoped>\n",
       "    .dataframe tbody tr th:only-of-type {\n",
       "        vertical-align: middle;\n",
       "    }\n",
       "\n",
       "    .dataframe tbody tr th {\n",
       "        vertical-align: top;\n",
       "    }\n",
       "\n",
       "    .dataframe thead th {\n",
       "        text-align: right;\n",
       "    }\n",
       "</style>\n",
       "<table border=\"1\" class=\"dataframe\">\n",
       "  <thead>\n",
       "    <tr style=\"text-align: right;\">\n",
       "      <th></th>\n",
       "      <th>prompt_id</th>\n",
       "      <th>prompt_name</th>\n",
       "      <th>instructions</th>\n",
       "      <th>source_text</th>\n",
       "    </tr>\n",
       "  </thead>\n",
       "  <tbody>\n",
       "    <tr>\n",
       "      <th>0</th>\n",
       "      <td>0</td>\n",
       "      <td>Car-free cities</td>\n",
       "      <td>Write an explanatory essay to inform fellow ci...</td>\n",
       "      <td># In German Suburb, Life Goes On Without Cars ...</td>\n",
       "    </tr>\n",
       "    <tr>\n",
       "      <th>1</th>\n",
       "      <td>1</td>\n",
       "      <td>Does the electoral college work?</td>\n",
       "      <td>Write a letter to your state senator in which ...</td>\n",
       "      <td># What Is the Electoral College? by the Office...</td>\n",
       "    </tr>\n",
       "  </tbody>\n",
       "</table>\n",
       "</div>"
      ],
      "text/plain": [
       "   prompt_id                       prompt_name  \\\n",
       "0          0                   Car-free cities   \n",
       "1          1  Does the electoral college work?   \n",
       "\n",
       "                                        instructions  \\\n",
       "0  Write an explanatory essay to inform fellow ci...   \n",
       "1  Write a letter to your state senator in which ...   \n",
       "\n",
       "                                         source_text  \n",
       "0  # In German Suburb, Life Goes On Without Cars ...  \n",
       "1  # What Is the Electoral College? by the Office...  "
      ]
     },
     "execution_count": 3,
     "metadata": {},
     "output_type": "execute_result"
    }
   ],
   "source": [
    "prompt = pd.read_csv(\"../Data/Detect AI Generated Text/train_prompts.csv\")\n",
    "prompt"
   ]
  },
  {
   "cell_type": "code",
   "execution_count": 4,
   "metadata": {},
   "outputs": [
    {
     "data": {
      "text/html": [
       "<div>\n",
       "<style scoped>\n",
       "    .dataframe tbody tr th:only-of-type {\n",
       "        vertical-align: middle;\n",
       "    }\n",
       "\n",
       "    .dataframe tbody tr th {\n",
       "        vertical-align: top;\n",
       "    }\n",
       "\n",
       "    .dataframe thead th {\n",
       "        text-align: right;\n",
       "    }\n",
       "</style>\n",
       "<table border=\"1\" class=\"dataframe\">\n",
       "  <thead>\n",
       "    <tr style=\"text-align: right;\">\n",
       "      <th></th>\n",
       "      <th>id</th>\n",
       "      <th>prompt_id</th>\n",
       "      <th>text</th>\n",
       "      <th>generated</th>\n",
       "    </tr>\n",
       "  </thead>\n",
       "  <tbody>\n",
       "    <tr>\n",
       "      <th>0</th>\n",
       "      <td>0059830c</td>\n",
       "      <td>0</td>\n",
       "      <td>Cars. Cars have been around since they became ...</td>\n",
       "      <td>0</td>\n",
       "    </tr>\n",
       "    <tr>\n",
       "      <th>1</th>\n",
       "      <td>005db917</td>\n",
       "      <td>0</td>\n",
       "      <td>Transportation is a large necessity in most co...</td>\n",
       "      <td>0</td>\n",
       "    </tr>\n",
       "    <tr>\n",
       "      <th>2</th>\n",
       "      <td>008f63e3</td>\n",
       "      <td>0</td>\n",
       "      <td>\"America's love affair with it's vehicles seem...</td>\n",
       "      <td>0</td>\n",
       "    </tr>\n",
       "    <tr>\n",
       "      <th>3</th>\n",
       "      <td>00940276</td>\n",
       "      <td>0</td>\n",
       "      <td>How often do you ride in a car? Do you drive a...</td>\n",
       "      <td>0</td>\n",
       "    </tr>\n",
       "    <tr>\n",
       "      <th>4</th>\n",
       "      <td>00c39458</td>\n",
       "      <td>0</td>\n",
       "      <td>Cars are a wonderful thing. They are perhaps o...</td>\n",
       "      <td>0</td>\n",
       "    </tr>\n",
       "    <tr>\n",
       "      <th>...</th>\n",
       "      <td>...</td>\n",
       "      <td>...</td>\n",
       "      <td>...</td>\n",
       "      <td>...</td>\n",
       "    </tr>\n",
       "    <tr>\n",
       "      <th>195</th>\n",
       "      <td>47bddafc</td>\n",
       "      <td>1</td>\n",
       "      <td>Dear Senator [Your Senator's Name],\\n\\nI am wr...</td>\n",
       "      <td>1</td>\n",
       "    </tr>\n",
       "    <tr>\n",
       "      <th>196</th>\n",
       "      <td>76e1300e</td>\n",
       "      <td>1</td>\n",
       "      <td>Dear Senator,\\n\\nI am writing today to express...</td>\n",
       "      <td>1</td>\n",
       "    </tr>\n",
       "    <tr>\n",
       "      <th>197</th>\n",
       "      <td>05058b6b</td>\n",
       "      <td>1</td>\n",
       "      <td>Dear Senator,\\n\\nI hope this letter finds you ...</td>\n",
       "      <td>1</td>\n",
       "    </tr>\n",
       "    <tr>\n",
       "      <th>198</th>\n",
       "      <td>1887e7ab</td>\n",
       "      <td>1</td>\n",
       "      <td>Senator [Your Senator’s Name],\\n\\nI am a const...</td>\n",
       "      <td>1</td>\n",
       "    </tr>\n",
       "    <tr>\n",
       "      <th>199</th>\n",
       "      <td>9c442dd0</td>\n",
       "      <td>1</td>\n",
       "      <td>[Your Name]\\n[Your Address]\\n[City, State, Zip...</td>\n",
       "      <td>1</td>\n",
       "    </tr>\n",
       "  </tbody>\n",
       "</table>\n",
       "<p>2279 rows × 4 columns</p>\n",
       "</div>"
      ],
      "text/plain": [
       "           id prompt_id                                               text  \\\n",
       "0    0059830c         0  Cars. Cars have been around since they became ...   \n",
       "1    005db917         0  Transportation is a large necessity in most co...   \n",
       "2    008f63e3         0  \"America's love affair with it's vehicles seem...   \n",
       "3    00940276         0  How often do you ride in a car? Do you drive a...   \n",
       "4    00c39458         0  Cars are a wonderful thing. They are perhaps o...   \n",
       "..        ...       ...                                                ...   \n",
       "195  47bddafc         1  Dear Senator [Your Senator's Name],\\n\\nI am wr...   \n",
       "196  76e1300e         1  Dear Senator,\\n\\nI am writing today to express...   \n",
       "197  05058b6b         1  Dear Senator,\\n\\nI hope this letter finds you ...   \n",
       "198  1887e7ab         1  Senator [Your Senator’s Name],\\n\\nI am a const...   \n",
       "199  9c442dd0         1  [Your Name]\\n[Your Address]\\n[City, State, Zip...   \n",
       "\n",
       "    generated  \n",
       "0           0  \n",
       "1           0  \n",
       "2           0  \n",
       "3           0  \n",
       "4           0  \n",
       "..        ...  \n",
       "195         1  \n",
       "196         1  \n",
       "197         1  \n",
       "198         1  \n",
       "199         1  \n",
       "\n",
       "[2279 rows x 4 columns]"
      ]
     },
     "execution_count": 4,
     "metadata": {},
     "output_type": "execute_result"
    }
   ],
   "source": [
    "raw_student_text = pd.read_csv('../Data/Detect AI Generated Text/train_essays.csv')\n",
    "raw_generated_text = pd.read_csv('../Data/Detect AI Generated Text/ai_generated_train_essays.csv')\n",
    "raw_generated_text_gpt4 = pd.read_csv('../Data/Detect AI Generated Text/ai_generated_train_essays_gpt-4.csv')\n",
    "raw_generated_text = pd.concat([raw_generated_text, raw_generated_text_gpt4])\n",
    "raw_text = pd.concat([raw_student_text, raw_generated_text])\n",
    "id_list = raw_text['id'].tolist()\n",
    "raw_text"
   ]
  },
  {
   "cell_type": "code",
   "execution_count": 5,
   "metadata": {},
   "outputs": [],
   "source": [
    "def generate_prompt(prompt_id):\n",
    "    instruction = prompt[prompt['prompt_id'] == prompt_id]['instructions'].values[0]\n",
    "    source_text = prompt[prompt['prompt_id'] == prompt_id]['source_text'].values[0]\n",
    "\n",
    "    #Remove any '\\n\\n' plus the following number from the source text. For example, '\\n\\n1', '\\n\\n2', '\\n\\n13', etc.\n",
    "    source_text = re.sub(r'\\n\\n\\d+', '\\n\\n', source_text)\n",
    "\n",
    "    #Remove any '\\n\\n' plus the following number from the source text. For example, '1\\n\\n', '2\\n\\n', '\\n\\n13', etc.\n",
    "    source_text = re.sub(r'\\d+\\n\\n', '\\n\\n', source_text)\n",
    "\n",
    "    #Remove any '.\\n\\n' from the source text.\n",
    "    source_text = re.sub(r'\\.\\n\\n', '. \\n\\n', source_text)\n",
    "\n",
    "    return instruction, source_text"
   ]
  },
  {
   "cell_type": "code",
   "execution_count": 6,
   "metadata": {},
   "outputs": [],
   "source": [
    "# Generate SQL database to store generated essays as they are generated to avoid losing progress\n",
    "conn = sqlite3.connect('../Data/Detect AI Generated Text/generated_essays.db')\n",
    "c = conn.cursor()\n",
    "\n",
    "# Create table if it doesn't exist\n",
    "c.execute('''CREATE TABLE IF NOT EXISTS essays\n",
    "             (id text,\n",
    "              prompt_id integer, \n",
    "              text text,\n",
    "              generated integer,\n",
    "              model text)''')\n",
    "\n",
    "# Commit changes\n",
    "conn.commit()\n",
    "\n",
    "# Close connection\n",
    "conn.close()"
   ]
  },
  {
   "cell_type": "code",
   "execution_count": 7,
   "metadata": {},
   "outputs": [],
   "source": [
    "# grab the essays that have already been generated during previous runs\n",
    "conn = sqlite3.connect('../Data/Detect AI Generated Text/generated_essays.db')\n",
    "c = conn.cursor()\n",
    "c.execute('SELECT * FROM essays')\n",
    "generated_essays = pd.DataFrame(c.fetchall(), columns=['id', 'prompt_id', 'text', 'generated', 'model'])\n",
    "conn.close()\n",
    "essays = pd.concat([raw_student_text, generated_essays])"
   ]
  },
  {
   "cell_type": "code",
   "execution_count": 8,
   "metadata": {},
   "outputs": [],
   "source": [
    "def store_essay(prompt_id, text, model_id):\n",
    "    prompt_id = int(prompt_id)\n",
    "    #Generate a random id up to 8 characters long and check if it already exists in the list of ids.\n",
    "    #If it does, generate another id and check again. Repeat until a unique id is generated.\n",
    "    id = ''.join(random.choices(string.ascii_lowercase + string.digits, k=8))\n",
    "    while id in id_list:\n",
    "        id = ''.join(random.choices(string.ascii_lowercase + string.digits, k=8))\n",
    "    id_list.append(id)\n",
    "\n",
    "    # Connect to database\n",
    "    conn = sqlite3.connect('../Data/Detect AI Generated Text/generated_essays.db')\n",
    "    c = conn.cursor()\n",
    "\n",
    "    # Insert data into table\n",
    "    c.execute(\"INSERT INTO essays VALUES (?, ?, ?, ?, ?)\", (id, prompt_id, text, 1, model_id))\n",
    "\n",
    "    # Commit changes\n",
    "    conn.commit()\n",
    "\n",
    "    # Close connection\n",
    "    conn.close()"
   ]
  },
  {
   "cell_type": "code",
   "execution_count": 15,
   "metadata": {},
   "outputs": [],
   "source": [
    "def generate_essay(model_id):\n",
    "    for i in range(0, 2):\n",
    "        instruction, source = generate_prompt(i)\n",
    "        text = instruction + r'\\n\\n' + source\n",
    "        message=[{\"role\": \"user\", \"content\": text}]\n",
    "        j = 0\n",
    "        while j < 250:\n",
    "            output = client.chat.completions.create(\n",
    "                                          model=\"local-model\", # this field is currently unused\n",
    "                                          messages=message,\n",
    "                                          max_tokens=4096,\n",
    "                                          temperature=1.8)\n",
    "            essay_len = output.usage.completion_tokens\n",
    "            if essay_len > 400 & essay_len < 1360:\n",
    "                essay = output.choices[0].message.content\n",
    "                store_essay(i, essay, model_id=model_id)\n",
    "                j += 1\n",
    "            time.sleep(3) # sleep for 3 seconds to avoid accessing the API too quickly"
   ]
  },
  {
   "cell_type": "markdown",
   "metadata": {},
   "source": [
    "# CatPPT model by andrijdavid\n",
    "https://huggingface.co/andrijdavid/CatPPT-base-GGUF"
   ]
  },
  {
   "cell_type": "code",
   "execution_count": 10,
   "metadata": {},
   "outputs": [],
   "source": [
    "generate_essay('catPPT')"
   ]
  },
  {
   "cell_type": "markdown",
   "metadata": {},
   "source": [
    "# Dolphin 2 model by TheBloke\n",
    "https://huggingface.co/TheBloke/dolphin-2.6-mistral-7B-dpo-GGUF"
   ]
  },
  {
   "cell_type": "code",
   "execution_count": 11,
   "metadata": {},
   "outputs": [],
   "source": [
    "generate_essay('dolphin')"
   ]
  },
  {
   "cell_type": "markdown",
   "metadata": {},
   "source": [
    "# Mistral 7B Instruct model by TheBloke\n",
    "https://huggingface.co/TheBloke/Mistral-7B-Instruct-v0.2-GGUF"
   ]
  },
  {
   "cell_type": "code",
   "execution_count": 12,
   "metadata": {},
   "outputs": [],
   "source": [
    "generate_essay('mistral')"
   ]
  }
 ],
 "metadata": {
  "kernelspec": {
   "display_name": "Python 3",
   "language": "python",
   "name": "python3"
  },
  "language_info": {
   "codemirror_mode": {
    "name": "ipython",
    "version": 3
   },
   "file_extension": ".py",
   "mimetype": "text/x-python",
   "name": "python",
   "nbconvert_exporter": "python",
   "pygments_lexer": "ipython3",
   "version": "3.12.0"
  }
 },
 "nbformat": 4,
 "nbformat_minor": 2
}
